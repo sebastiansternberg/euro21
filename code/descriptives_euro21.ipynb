{
 "metadata": {
  "language_info": {
   "codemirror_mode": {
    "name": "ipython",
    "version": 3
   },
   "file_extension": ".py",
   "mimetype": "text/x-python",
   "name": "python",
   "nbconvert_exporter": "python",
   "pygments_lexer": "ipython3",
   "version": "3.8.8"
  },
  "orig_nbformat": 2,
  "kernelspec": {
   "name": "python388jvsc74a57bd0acf349459352119c2cc79b6caa50cb3f239a272fce0d5d36c6e24d8c725190d6",
   "display_name": "Python 3.8.8 64-bit ('scraper': conda)"
  },
  "metadata": {
   "interpreter": {
    "hash": "acf349459352119c2cc79b6caa50cb3f239a272fce0d5d36c6e24d8c725190d6"
   }
  }
 },
 "nbformat": 4,
 "nbformat_minor": 2,
 "cells": [
  {
   "cell_type": "code",
   "execution_count": 2,
   "metadata": {},
   "outputs": [],
   "source": [
    "import pandas as pd\n",
    "import numpy as np\n"
   ]
  },
  {
   "cell_type": "code",
   "execution_count": null,
   "metadata": {},
   "outputs": [],
   "source": [
    "pd.read_csv"
   ]
  },
  {
   "cell_type": "code",
   "execution_count": 9,
   "metadata": {},
   "outputs": [
    {
     "output_type": "execute_result",
     "data": {
      "text/plain": [
       "                          Date   Time HomeTeamName AwayTeamName  \\\n",
       "281   2 July 2016 (2016-07-02)  21:00     Germany         Italy   \n",
       "282   3 July 2016 (2016-07-03)  21:00      France       Iceland   \n",
       "283   6 July 2016 (2016-07-06)  21:00    Portugal         Wales   \n",
       "284   7 July 2016 (2016-07-07)  21:00     Germany        France   \n",
       "285  10 July 2016 (2016-07-10)  21:00    Portugal        France   \n",
       "\n",
       "     HomeTeamGoals  AwayTeamGoals           Stage  \\\n",
       "281              1              1  Quarter-finals   \n",
       "282              5              2  Quarter-finals   \n",
       "283              2              0     Semi-finals   \n",
       "284              0              2     Semi-finals   \n",
       "285              1              0           Final   \n",
       "\n",
       "                SpecialWinConditions                    Stadium  \\\n",
       "281   Germany  win on Penalities 6–5  Nouveau Stade de Bordeaux   \n",
       "282                              NaN            Stade de France   \n",
       "283                              NaN    Parc Olympique Lyonnais   \n",
       "284                              NaN            Stade Vélodrome   \n",
       "285  Portugal  win after extra time             Stade de France   \n",
       "\n",
       "                  City  Attendance  Year  \n",
       "281           Bordeaux       38764  2016  \n",
       "282        Saint-Denis       76833  2016  \n",
       "283   Décines-Charpieu       55679  2016  \n",
       "284          Marseille       64078  2016  \n",
       "285        Saint-Denis       75868  2016  "
      ],
      "text/html": "<div>\n<style scoped>\n    .dataframe tbody tr th:only-of-type {\n        vertical-align: middle;\n    }\n\n    .dataframe tbody tr th {\n        vertical-align: top;\n    }\n\n    .dataframe thead th {\n        text-align: right;\n    }\n</style>\n<table border=\"1\" class=\"dataframe\">\n  <thead>\n    <tr style=\"text-align: right;\">\n      <th></th>\n      <th>Date</th>\n      <th>Time</th>\n      <th>HomeTeamName</th>\n      <th>AwayTeamName</th>\n      <th>HomeTeamGoals</th>\n      <th>AwayTeamGoals</th>\n      <th>Stage</th>\n      <th>SpecialWinConditions</th>\n      <th>Stadium</th>\n      <th>City</th>\n      <th>Attendance</th>\n      <th>Year</th>\n    </tr>\n  </thead>\n  <tbody>\n    <tr>\n      <th>281</th>\n      <td>2 July 2016 (2016-07-02)</td>\n      <td>21:00</td>\n      <td>Germany</td>\n      <td>Italy</td>\n      <td>1</td>\n      <td>1</td>\n      <td>Quarter-finals</td>\n      <td>Germany  win on Penalities 6–5</td>\n      <td>Nouveau Stade de Bordeaux</td>\n      <td>Bordeaux</td>\n      <td>38764</td>\n      <td>2016</td>\n    </tr>\n    <tr>\n      <th>282</th>\n      <td>3 July 2016 (2016-07-03)</td>\n      <td>21:00</td>\n      <td>France</td>\n      <td>Iceland</td>\n      <td>5</td>\n      <td>2</td>\n      <td>Quarter-finals</td>\n      <td>NaN</td>\n      <td>Stade de France</td>\n      <td>Saint-Denis</td>\n      <td>76833</td>\n      <td>2016</td>\n    </tr>\n    <tr>\n      <th>283</th>\n      <td>6 July 2016 (2016-07-06)</td>\n      <td>21:00</td>\n      <td>Portugal</td>\n      <td>Wales</td>\n      <td>2</td>\n      <td>0</td>\n      <td>Semi-finals</td>\n      <td>NaN</td>\n      <td>Parc Olympique Lyonnais</td>\n      <td>Décines-Charpieu</td>\n      <td>55679</td>\n      <td>2016</td>\n    </tr>\n    <tr>\n      <th>284</th>\n      <td>7 July 2016 (2016-07-07)</td>\n      <td>21:00</td>\n      <td>Germany</td>\n      <td>France</td>\n      <td>0</td>\n      <td>2</td>\n      <td>Semi-finals</td>\n      <td>NaN</td>\n      <td>Stade Vélodrome</td>\n      <td>Marseille</td>\n      <td>64078</td>\n      <td>2016</td>\n    </tr>\n    <tr>\n      <th>285</th>\n      <td>10 July 2016 (2016-07-10)</td>\n      <td>21:00</td>\n      <td>Portugal</td>\n      <td>France</td>\n      <td>1</td>\n      <td>0</td>\n      <td>Final</td>\n      <td>Portugal  win after extra time</td>\n      <td>Stade de France</td>\n      <td>Saint-Denis</td>\n      <td>75868</td>\n      <td>2016</td>\n    </tr>\n  </tbody>\n</table>\n</div>"
     },
     "metadata": {},
     "execution_count": 9
    }
   ],
   "source": [
    "\n",
    "all_matches = pd.read_csv(\"../data/Uefa Euro Cup All Matches.csv\")\n",
    "\n",
    "all_matches.tail()\n",
    "\n",
    "\n"
   ]
  },
  {
   "cell_type": "code",
   "execution_count": 10,
   "metadata": {},
   "outputs": [
    {
     "output_type": "execute_result",
     "data": {
      "text/plain": [
       "0      9\n",
       "1      3\n",
       "2      2\n",
       "3      3\n",
       "4      3\n",
       "      ..\n",
       "281    2\n",
       "282    7\n",
       "283    2\n",
       "284    2\n",
       "285    1\n",
       "Length: 286, dtype: int64"
      ]
     },
     "metadata": {},
     "execution_count": 10
    }
   ],
   "source": [
    "all_matches.HomeTeamGoals + all_matches.AwayTeamGoals"
   ]
  },
  {
   "cell_type": "code",
   "execution_count": 11,
   "metadata": {},
   "outputs": [],
   "source": [
    "all_matches[\"total_goals\"] = all_matches.HomeTeamGoals + all_matches.AwayTeamGoals\n"
   ]
  },
  {
   "cell_type": "code",
   "execution_count": 14,
   "metadata": {},
   "outputs": [
    {
     "output_type": "stream",
     "name": "stdout",
     "text": [
      "The mean total goals across all championships is: 2.402097902097902\n"
     ]
    }
   ],
   "source": [
    "#goals per years/ championships\n",
    "\n",
    "mean_total_goals = np.mean(all_matches.total_goals)\n",
    "print(\"The mean total goals across all championships is:\", mean_total_goals)\n",
    "\n"
   ]
  },
  {
   "cell_type": "code",
   "execution_count": 16,
   "metadata": {},
   "outputs": [
    {
     "output_type": "execute_result",
     "data": {
      "text/plain": [
       "      HomeTeamGoals  AwayTeamGoals    Attendance  total_goals\n",
       "Year                                                         \n",
       "1960       2.000000       2.250000  19739.500000     4.250000\n",
       "1964       1.750000       1.500000  39063.250000     3.250000\n",
       "1968       1.200000       0.200000  52187.200000     1.400000\n",
       "1972       1.250000       1.250000  26644.500000     2.500000\n",
       "1976       2.500000       2.250000  26521.750000     4.750000\n",
       "1980       0.857143       1.071429  25046.785714     1.928571\n",
       "1984       2.000000       0.733333  39977.000000     2.733333\n",
       "1988       1.066667       1.200000  56656.266667     2.266667\n",
       "1992       1.266667       0.866667  28682.733333     2.133333\n",
       "1996       0.935484       1.129032  41166.806452     2.064516\n",
       "2000       1.483871       1.258065  36278.806452     2.741935\n",
       "2004       1.354839       1.129032  37122.645161     2.483871\n",
       "2008       1.258065       1.225806  36902.903226     2.483871\n",
       "2012       1.419355       1.032258  46480.516129     2.451613\n",
       "2016       1.117647       1.000000  47594.176471     2.117647"
      ],
      "text/html": "<div>\n<style scoped>\n    .dataframe tbody tr th:only-of-type {\n        vertical-align: middle;\n    }\n\n    .dataframe tbody tr th {\n        vertical-align: top;\n    }\n\n    .dataframe thead th {\n        text-align: right;\n    }\n</style>\n<table border=\"1\" class=\"dataframe\">\n  <thead>\n    <tr style=\"text-align: right;\">\n      <th></th>\n      <th>HomeTeamGoals</th>\n      <th>AwayTeamGoals</th>\n      <th>Attendance</th>\n      <th>total_goals</th>\n    </tr>\n    <tr>\n      <th>Year</th>\n      <th></th>\n      <th></th>\n      <th></th>\n      <th></th>\n    </tr>\n  </thead>\n  <tbody>\n    <tr>\n      <th>1960</th>\n      <td>2.000000</td>\n      <td>2.250000</td>\n      <td>19739.500000</td>\n      <td>4.250000</td>\n    </tr>\n    <tr>\n      <th>1964</th>\n      <td>1.750000</td>\n      <td>1.500000</td>\n      <td>39063.250000</td>\n      <td>3.250000</td>\n    </tr>\n    <tr>\n      <th>1968</th>\n      <td>1.200000</td>\n      <td>0.200000</td>\n      <td>52187.200000</td>\n      <td>1.400000</td>\n    </tr>\n    <tr>\n      <th>1972</th>\n      <td>1.250000</td>\n      <td>1.250000</td>\n      <td>26644.500000</td>\n      <td>2.500000</td>\n    </tr>\n    <tr>\n      <th>1976</th>\n      <td>2.500000</td>\n      <td>2.250000</td>\n      <td>26521.750000</td>\n      <td>4.750000</td>\n    </tr>\n    <tr>\n      <th>1980</th>\n      <td>0.857143</td>\n      <td>1.071429</td>\n      <td>25046.785714</td>\n      <td>1.928571</td>\n    </tr>\n    <tr>\n      <th>1984</th>\n      <td>2.000000</td>\n      <td>0.733333</td>\n      <td>39977.000000</td>\n      <td>2.733333</td>\n    </tr>\n    <tr>\n      <th>1988</th>\n      <td>1.066667</td>\n      <td>1.200000</td>\n      <td>56656.266667</td>\n      <td>2.266667</td>\n    </tr>\n    <tr>\n      <th>1992</th>\n      <td>1.266667</td>\n      <td>0.866667</td>\n      <td>28682.733333</td>\n      <td>2.133333</td>\n    </tr>\n    <tr>\n      <th>1996</th>\n      <td>0.935484</td>\n      <td>1.129032</td>\n      <td>41166.806452</td>\n      <td>2.064516</td>\n    </tr>\n    <tr>\n      <th>2000</th>\n      <td>1.483871</td>\n      <td>1.258065</td>\n      <td>36278.806452</td>\n      <td>2.741935</td>\n    </tr>\n    <tr>\n      <th>2004</th>\n      <td>1.354839</td>\n      <td>1.129032</td>\n      <td>37122.645161</td>\n      <td>2.483871</td>\n    </tr>\n    <tr>\n      <th>2008</th>\n      <td>1.258065</td>\n      <td>1.225806</td>\n      <td>36902.903226</td>\n      <td>2.483871</td>\n    </tr>\n    <tr>\n      <th>2012</th>\n      <td>1.419355</td>\n      <td>1.032258</td>\n      <td>46480.516129</td>\n      <td>2.451613</td>\n    </tr>\n    <tr>\n      <th>2016</th>\n      <td>1.117647</td>\n      <td>1.000000</td>\n      <td>47594.176471</td>\n      <td>2.117647</td>\n    </tr>\n  </tbody>\n</table>\n</div>"
     },
     "metadata": {},
     "execution_count": 16
    }
   ],
   "source": [
    "\n",
    "\n",
    "\n",
    "all_matches.groupby('Year').mean()\n",
    "\n",
    "\n"
   ]
  },
  {
   "cell_type": "code",
   "execution_count": null,
   "metadata": {},
   "outputs": [],
   "source": [
    "\n",
    "#calculate the mean and std across all matches ever:\n",
    "\n",
    "\n",
    "\n",
    "\n",
    "\n",
    "\n",
    "#then by country\n",
    "\n",
    "\n"
   ]
  },
  {
   "cell_type": "code",
   "execution_count": null,
   "metadata": {},
   "outputs": [],
   "source": [
    "#simulate the results with the Kicktipp modi to get expected values for different tipping strategies\n",
    "\n",
    "\n",
    "\n",
    "\n",
    "\n",
    "\n",
    "\n"
   ]
  }
 ]
}